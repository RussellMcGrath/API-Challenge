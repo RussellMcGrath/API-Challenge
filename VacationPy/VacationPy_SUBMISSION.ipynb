{
 "cells": [
  {
   "cell_type": "markdown",
   "metadata": {},
   "source": [
    "# VacationPy\n",
    "----\n",
    "\n",
    "#### Note\n",
    "* Keep an eye on your API usage. Use https://developers.google.com/maps/reporting/gmp-reporting as reference for how to monitor your usage and billing.\n",
    "\n",
    "* Instructions have been included for each segment. You do not have to follow them exactly, but they are included to help you think through the steps."
   ]
  },
  {
   "cell_type": "code",
   "execution_count": 84,
   "metadata": {},
   "outputs": [],
   "source": [
    "# Dependencies and Setup\n",
    "import matplotlib.pyplot as plt\n",
    "import pandas as pd\n",
    "import numpy as np\n",
    "import requests\n",
    "import gmaps\n",
    "import os\n",
    "from pprint import pprint\n",
    "\n",
    "# Import API key\n",
    "from api_keys import g_key"
   ]
  },
  {
   "cell_type": "markdown",
   "metadata": {},
   "source": [
    "### Store Part I results into DataFrame\n",
    "* Load the csv exported in Part I to a DataFrame"
   ]
  },
  {
   "cell_type": "code",
   "execution_count": 62,
   "metadata": {},
   "outputs": [
    {
     "data": {
      "text/html": [
       "<div>\n",
       "<style scoped>\n",
       "    .dataframe tbody tr th:only-of-type {\n",
       "        vertical-align: middle;\n",
       "    }\n",
       "\n",
       "    .dataframe tbody tr th {\n",
       "        vertical-align: top;\n",
       "    }\n",
       "\n",
       "    .dataframe thead th {\n",
       "        text-align: right;\n",
       "    }\n",
       "</style>\n",
       "<table border=\"1\" class=\"dataframe\">\n",
       "  <thead>\n",
       "    <tr style=\"text-align: right;\">\n",
       "      <th></th>\n",
       "      <th>City</th>\n",
       "      <th>Country</th>\n",
       "      <th>Lat</th>\n",
       "      <th>Lon</th>\n",
       "      <th>Max Temp</th>\n",
       "      <th>Humidity</th>\n",
       "      <th>Cloudiness</th>\n",
       "      <th>Wind Speed</th>\n",
       "      <th>Date</th>\n",
       "    </tr>\n",
       "  </thead>\n",
       "  <tbody>\n",
       "    <tr>\n",
       "      <th>0</th>\n",
       "      <td>nome</td>\n",
       "      <td>us</td>\n",
       "      <td>64.50</td>\n",
       "      <td>-165.41</td>\n",
       "      <td>48.20</td>\n",
       "      <td>81</td>\n",
       "      <td>90</td>\n",
       "      <td>13.87</td>\n",
       "      <td>1600036035</td>\n",
       "    </tr>\n",
       "    <tr>\n",
       "      <th>1</th>\n",
       "      <td>busselton</td>\n",
       "      <td>au</td>\n",
       "      <td>-33.65</td>\n",
       "      <td>115.33</td>\n",
       "      <td>55.99</td>\n",
       "      <td>59</td>\n",
       "      <td>95</td>\n",
       "      <td>5.93</td>\n",
       "      <td>1600035932</td>\n",
       "    </tr>\n",
       "    <tr>\n",
       "      <th>2</th>\n",
       "      <td>beidao</td>\n",
       "      <td>cn</td>\n",
       "      <td>34.57</td>\n",
       "      <td>105.89</td>\n",
       "      <td>61.38</td>\n",
       "      <td>84</td>\n",
       "      <td>98</td>\n",
       "      <td>1.72</td>\n",
       "      <td>1600036085</td>\n",
       "    </tr>\n",
       "    <tr>\n",
       "      <th>3</th>\n",
       "      <td>saint george</td>\n",
       "      <td>bm</td>\n",
       "      <td>37.10</td>\n",
       "      <td>-113.58</td>\n",
       "      <td>97.00</td>\n",
       "      <td>7</td>\n",
       "      <td>1</td>\n",
       "      <td>11.41</td>\n",
       "      <td>1600036086</td>\n",
       "    </tr>\n",
       "    <tr>\n",
       "      <th>4</th>\n",
       "      <td>jamestown</td>\n",
       "      <td>sh</td>\n",
       "      <td>42.10</td>\n",
       "      <td>-79.24</td>\n",
       "      <td>71.01</td>\n",
       "      <td>77</td>\n",
       "      <td>1</td>\n",
       "      <td>11.41</td>\n",
       "      <td>1600036087</td>\n",
       "    </tr>\n",
       "  </tbody>\n",
       "</table>\n",
       "</div>"
      ],
      "text/plain": [
       "           City Country    Lat     Lon  Max Temp  Humidity  Cloudiness  \\\n",
       "0          nome      us  64.50 -165.41     48.20        81          90   \n",
       "1     busselton      au -33.65  115.33     55.99        59          95   \n",
       "2        beidao      cn  34.57  105.89     61.38        84          98   \n",
       "3  saint george      bm  37.10 -113.58     97.00         7           1   \n",
       "4     jamestown      sh  42.10  -79.24     71.01        77           1   \n",
       "\n",
       "   Wind Speed        Date  \n",
       "0       13.87  1600036035  \n",
       "1        5.93  1600035932  \n",
       "2        1.72  1600036085  \n",
       "3       11.41  1600036086  \n",
       "4       11.41  1600036087  "
      ]
     },
     "execution_count": 62,
     "metadata": {},
     "output_type": "execute_result"
    }
   ],
   "source": [
    "city_file = pd.read_csv(\"../WeatherPy/outputs/Cities Data.csv\")\n",
    "city_file.head()"
   ]
  },
  {
   "cell_type": "markdown",
   "metadata": {},
   "source": [
    "### Humidity Heatmap\n",
    "* Configure gmaps.\n",
    "* Use the Lat and Lng as locations and Humidity as the weight.\n",
    "* Add Heatmap layer to map."
   ]
  },
  {
   "cell_type": "code",
   "execution_count": 63,
   "metadata": {},
   "outputs": [],
   "source": [
    "# Configure gmaps with API key\n",
    "gmaps.configure(api_key=g_key)\n",
    "\n",
    "# Customize the size of the figure\n",
    "figure_layout = {\n",
    "    'width': '900px',\n",
    "    'height': '450px',\n",
    "    'border': '1px solid black',\n",
    "    'padding': '1px',\n",
    "    'margin': '0 auto 0 auto'}\n",
    "\n",
    "fig = gmaps.figure(layout=figure_layout, center=(0,0), zoom_level=2)"
   ]
  },
  {
   "cell_type": "code",
   "execution_count": 64,
   "metadata": {},
   "outputs": [
    {
     "data": {
      "application/vnd.jupyter.widget-view+json": {
       "model_id": "d24e9a4bff624eadbc38c4d8cf818065",
       "version_major": 2,
       "version_minor": 0
      },
      "text/plain": [
       "Figure(layout=FigureLayout(border='1px solid black', height='450px', margin='0 auto 0 auto', padding='1px', wi…"
      ]
     },
     "metadata": {},
     "output_type": "display_data"
    }
   ],
   "source": [
    "locations = city_file[[\"Lat\",\"Lon\"]].astype(float)\n",
    "humidities = city_file[\"Humidity\"].astype(float).to_list()\n",
    "\n",
    "heat_layer = gmaps.heatmap_layer(locations, weights=humidities, dissipating=False, max_intensity=100, point_radius = 3)\n",
    "\n",
    "fig.add_layer(heat_layer)\n",
    "fig"
   ]
  },
  {
   "cell_type": "markdown",
   "metadata": {},
   "source": [
    "### Create new DataFrame fitting weather criteria\n",
    "* Narrow down the cities to fit weather conditions.\n",
    "* Drop any rows will null values."
   ]
  },
  {
   "cell_type": "code",
   "execution_count": 65,
   "metadata": {},
   "outputs": [
    {
     "data": {
      "text/plain": [
       "10"
      ]
     },
     "execution_count": 65,
     "metadata": {},
     "output_type": "execute_result"
    }
   ],
   "source": [
    "ideal_weather = city_file.loc[\n",
    "    ((city_file[\"Max Temp\"]) < 80) &\n",
    "    ((city_file[\"Max Temp\"]) > 70) &\n",
    "    ((city_file[\"Wind Speed\"]) < 10) &\n",
    "    ((city_file[\"Cloudiness\"]) == 0)]\n",
    "\n",
    "len(ideal_weather)"
   ]
  },
  {
   "cell_type": "markdown",
   "metadata": {},
   "source": [
    "### Hotel Map\n",
    "* Store into variable named `hotel_df`.\n",
    "* Add a \"Hotel Name\" column to the DataFrame.\n",
    "* Set parameters to search for hotels with 5000 meters.\n",
    "* Hit the Google Places API for each city's coordinates.\n",
    "* Store the first Hotel result into the DataFrame.\n",
    "* Plot markers on top of the heatmap."
   ]
  },
  {
   "cell_type": "code",
   "execution_count": 134,
   "metadata": {},
   "outputs": [
    {
     "data": {
      "text/html": [
       "<div>\n",
       "<style scoped>\n",
       "    .dataframe tbody tr th:only-of-type {\n",
       "        vertical-align: middle;\n",
       "    }\n",
       "\n",
       "    .dataframe tbody tr th {\n",
       "        vertical-align: top;\n",
       "    }\n",
       "\n",
       "    .dataframe thead th {\n",
       "        text-align: right;\n",
       "    }\n",
       "</style>\n",
       "<table border=\"1\" class=\"dataframe\">\n",
       "  <thead>\n",
       "    <tr style=\"text-align: right;\">\n",
       "      <th></th>\n",
       "      <th>City</th>\n",
       "      <th>Country</th>\n",
       "      <th>Lat</th>\n",
       "      <th>Lng</th>\n",
       "    </tr>\n",
       "  </thead>\n",
       "  <tbody>\n",
       "    <tr>\n",
       "      <th>140</th>\n",
       "      <td>darnah</td>\n",
       "      <td>ly</td>\n",
       "      <td>32.77</td>\n",
       "      <td>22.64</td>\n",
       "    </tr>\n",
       "    <tr>\n",
       "      <th>247</th>\n",
       "      <td>buriti alegre</td>\n",
       "      <td>br</td>\n",
       "      <td>-18.14</td>\n",
       "      <td>-49.04</td>\n",
       "    </tr>\n",
       "    <tr>\n",
       "      <th>264</th>\n",
       "      <td>vazante</td>\n",
       "      <td>br</td>\n",
       "      <td>-17.99</td>\n",
       "      <td>-46.91</td>\n",
       "    </tr>\n",
       "    <tr>\n",
       "      <th>334</th>\n",
       "      <td>awbari</td>\n",
       "      <td>ly</td>\n",
       "      <td>26.59</td>\n",
       "      <td>12.78</td>\n",
       "    </tr>\n",
       "    <tr>\n",
       "      <th>355</th>\n",
       "      <td>richards bay</td>\n",
       "      <td>za</td>\n",
       "      <td>-28.78</td>\n",
       "      <td>32.04</td>\n",
       "    </tr>\n",
       "    <tr>\n",
       "      <th>399</th>\n",
       "      <td>imbituba</td>\n",
       "      <td>br</td>\n",
       "      <td>-28.24</td>\n",
       "      <td>-48.67</td>\n",
       "    </tr>\n",
       "    <tr>\n",
       "      <th>427</th>\n",
       "      <td>moissac</td>\n",
       "      <td>fr</td>\n",
       "      <td>44.10</td>\n",
       "      <td>1.09</td>\n",
       "    </tr>\n",
       "    <tr>\n",
       "      <th>489</th>\n",
       "      <td>angouleme</td>\n",
       "      <td>fr</td>\n",
       "      <td>45.65</td>\n",
       "      <td>0.15</td>\n",
       "    </tr>\n",
       "    <tr>\n",
       "      <th>610</th>\n",
       "      <td>marsa matruh</td>\n",
       "      <td>eg</td>\n",
       "      <td>31.35</td>\n",
       "      <td>27.25</td>\n",
       "    </tr>\n",
       "    <tr>\n",
       "      <th>617</th>\n",
       "      <td>aracuai</td>\n",
       "      <td>br</td>\n",
       "      <td>-16.85</td>\n",
       "      <td>-42.07</td>\n",
       "    </tr>\n",
       "  </tbody>\n",
       "</table>\n",
       "</div>"
      ],
      "text/plain": [
       "              City Country    Lat    Lng\n",
       "140         darnah      ly  32.77  22.64\n",
       "247  buriti alegre      br -18.14 -49.04\n",
       "264        vazante      br -17.99 -46.91\n",
       "334         awbari      ly  26.59  12.78\n",
       "355   richards bay      za -28.78  32.04\n",
       "399       imbituba      br -28.24 -48.67\n",
       "427        moissac      fr  44.10   1.09\n",
       "489      angouleme      fr  45.65   0.15\n",
       "610   marsa matruh      eg  31.35  27.25\n",
       "617        aracuai      br -16.85 -42.07"
      ]
     },
     "execution_count": 134,
     "metadata": {},
     "output_type": "execute_result"
    }
   ],
   "source": [
    "hotel_df = ideal_weather.loc[:,[\"City\",\"Country\",\"Lat\",\"Lon\"]]\n",
    "hotel_df = hotel_df.rename(columns={\"Lon\":\"Lng\"})\n",
    "\n",
    "hotel_df"
   ]
  },
  {
   "cell_type": "code",
   "execution_count": 136,
   "metadata": {},
   "outputs": [
    {
     "data": {
      "text/html": [
       "<div>\n",
       "<style scoped>\n",
       "    .dataframe tbody tr th:only-of-type {\n",
       "        vertical-align: middle;\n",
       "    }\n",
       "\n",
       "    .dataframe tbody tr th {\n",
       "        vertical-align: top;\n",
       "    }\n",
       "\n",
       "    .dataframe thead th {\n",
       "        text-align: right;\n",
       "    }\n",
       "</style>\n",
       "<table border=\"1\" class=\"dataframe\">\n",
       "  <thead>\n",
       "    <tr style=\"text-align: right;\">\n",
       "      <th></th>\n",
       "      <th>City</th>\n",
       "      <th>Country</th>\n",
       "      <th>Lat</th>\n",
       "      <th>Lng</th>\n",
       "      <th>Hotel Name</th>\n",
       "    </tr>\n",
       "  </thead>\n",
       "  <tbody>\n",
       "    <tr>\n",
       "      <th>140</th>\n",
       "      <td>darnah</td>\n",
       "      <td>ly</td>\n",
       "      <td>32.77</td>\n",
       "      <td>22.64</td>\n",
       "      <td>فندق النعيم</td>\n",
       "    </tr>\n",
       "    <tr>\n",
       "      <th>247</th>\n",
       "      <td>buriti alegre</td>\n",
       "      <td>br</td>\n",
       "      <td>-18.14</td>\n",
       "      <td>-49.04</td>\n",
       "      <td>FLIP PALACE HOTEL</td>\n",
       "    </tr>\n",
       "    <tr>\n",
       "      <th>264</th>\n",
       "      <td>vazante</td>\n",
       "      <td>br</td>\n",
       "      <td>-17.99</td>\n",
       "      <td>-46.91</td>\n",
       "      <td>Hotel Pousada e Restaurante</td>\n",
       "    </tr>\n",
       "    <tr>\n",
       "      <th>334</th>\n",
       "      <td>awbari</td>\n",
       "      <td>ly</td>\n",
       "      <td>26.59</td>\n",
       "      <td>12.78</td>\n",
       "      <td>NO HOTELS FOUND</td>\n",
       "    </tr>\n",
       "    <tr>\n",
       "      <th>355</th>\n",
       "      <td>richards bay</td>\n",
       "      <td>za</td>\n",
       "      <td>-28.78</td>\n",
       "      <td>32.04</td>\n",
       "      <td>BON Hotel Waterfront Richards Bay</td>\n",
       "    </tr>\n",
       "    <tr>\n",
       "      <th>399</th>\n",
       "      <td>imbituba</td>\n",
       "      <td>br</td>\n",
       "      <td>-28.24</td>\n",
       "      <td>-48.67</td>\n",
       "      <td>Praia Hotel Imbituba</td>\n",
       "    </tr>\n",
       "    <tr>\n",
       "      <th>427</th>\n",
       "      <td>moissac</td>\n",
       "      <td>fr</td>\n",
       "      <td>44.10</td>\n",
       "      <td>1.09</td>\n",
       "      <td>Hôtel &amp; Spa Le Moulin De Moissac</td>\n",
       "    </tr>\n",
       "    <tr>\n",
       "      <th>489</th>\n",
       "      <td>angouleme</td>\n",
       "      <td>fr</td>\n",
       "      <td>45.65</td>\n",
       "      <td>0.15</td>\n",
       "      <td>Villa Côté Plateau</td>\n",
       "    </tr>\n",
       "    <tr>\n",
       "      <th>610</th>\n",
       "      <td>marsa matruh</td>\n",
       "      <td>eg</td>\n",
       "      <td>31.35</td>\n",
       "      <td>27.25</td>\n",
       "      <td>Air Force hotel</td>\n",
       "    </tr>\n",
       "    <tr>\n",
       "      <th>617</th>\n",
       "      <td>aracuai</td>\n",
       "      <td>br</td>\n",
       "      <td>-16.85</td>\n",
       "      <td>-42.07</td>\n",
       "      <td>Village das Minas Hotel</td>\n",
       "    </tr>\n",
       "  </tbody>\n",
       "</table>\n",
       "</div>"
      ],
      "text/plain": [
       "              City Country    Lat    Lng                         Hotel Name\n",
       "140         darnah      ly  32.77  22.64                        فندق النعيم\n",
       "247  buriti alegre      br -18.14 -49.04                  FLIP PALACE HOTEL\n",
       "264        vazante      br -17.99 -46.91        Hotel Pousada e Restaurante\n",
       "334         awbari      ly  26.59  12.78                    NO HOTELS FOUND\n",
       "355   richards bay      za -28.78  32.04  BON Hotel Waterfront Richards Bay\n",
       "399       imbituba      br -28.24 -48.67               Praia Hotel Imbituba\n",
       "427        moissac      fr  44.10   1.09   Hôtel & Spa Le Moulin De Moissac\n",
       "489      angouleme      fr  45.65   0.15                 Villa Côté Plateau\n",
       "610   marsa matruh      eg  31.35  27.25                    Air Force hotel\n",
       "617        aracuai      br -16.85 -42.07            Village das Minas Hotel"
      ]
     },
     "execution_count": 136,
     "metadata": {},
     "output_type": "execute_result"
    }
   ],
   "source": [
    "# base url\n",
    "base_url = \"https://maps.googleapis.com/maps/api/place/nearbysearch/json\"\n",
    "\n",
    "target_search = \"hotel\"\n",
    "target_radius = 5000\n",
    "target_type = \"hotel\"\n",
    "\n",
    "hotel_names = []\n",
    "\n",
    "for city in hotel_df[\"City\"]:\n",
    "    \n",
    "    city_lat = hotel_df[\"Lat\"].loc[hotel_df[\"City\"]==city].iloc[0] \n",
    "    city_lon = hotel_df[\"Lng\"].loc[hotel_df[\"City\"]==city].iloc[0] \n",
    "    coords = f\"{city_lat},{city_lon}\"\n",
    "    \n",
    "    # set up a parameters dictionary\n",
    "    params = {\"location\": coords,\n",
    "              \"keyword\": target_search,\n",
    "              \"radius\": target_radius,\n",
    "              \"type\": target_type,\n",
    "              \"key\": g_key}\n",
    "    \n",
    "    # run a request using params dictionary\n",
    "    response = requests.get(base_url, params=params).json()\n",
    "    \n",
    "    try:\n",
    "        hotel_names.append(response[\"results\"][0][\"name\"])\n",
    "    except:\n",
    "        hotel_names.append(\"NO HOTELS FOUND\")\n",
    "    \n",
    "hotel_df[\"Hotel Name\"] = hotel_names\n",
    "hotel_df"
   ]
  },
  {
   "cell_type": "code",
   "execution_count": 137,
   "metadata": {},
   "outputs": [],
   "source": [
    "# NOTE: Do not change any of the code in this cell\n",
    "\n",
    "# Using the template add the hotel marks to the heatmap\n",
    "info_box_template = \"\"\"\n",
    "<dl>\n",
    "<dt>Name</dt><dd>{Hotel Name}</dd>\n",
    "<dt>City</dt><dd>{City}</dd>\n",
    "<dt>Country</dt><dd>{Country}</dd>\n",
    "</dl>\n",
    "\"\"\"\n",
    "# Store the DataFrame Row\n",
    "# NOTE: be sure to update with your DataFrame name\n",
    "hotel_info = [info_box_template.format(**row) for index, row in hotel_df.iterrows()]\n",
    "locations = hotel_df[[\"Lat\", \"Lng\"]]"
   ]
  },
  {
   "cell_type": "code",
   "execution_count": 138,
   "metadata": {
    "scrolled": true
   },
   "outputs": [],
   "source": [
    "# Add marker layer ontop of heat map\n",
    "marker_layer = gmaps.marker_layer(locations, info_box_content=hotel_info)\n",
    "fig.add_layer(marker_layer)"
   ]
  },
  {
   "cell_type": "code",
   "execution_count": 141,
   "metadata": {
    "scrolled": true
   },
   "outputs": [
    {
     "data": {
      "application/vnd.jupyter.widget-view+json": {
       "model_id": "d24e9a4bff624eadbc38c4d8cf818065",
       "version_major": 2,
       "version_minor": 0
      },
      "text/plain": [
       "Figure(layout=FigureLayout(border='1px solid black', height='450px', margin='0 auto 0 auto', padding='1px', wi…"
      ]
     },
     "metadata": {},
     "output_type": "display_data"
    }
   ],
   "source": [
    "# Display figure\n",
    "fig"
   ]
  },
  {
   "cell_type": "code",
   "execution_count": null,
   "metadata": {},
   "outputs": [],
   "source": []
  }
 ],
 "metadata": {
  "kernelspec": {
   "display_name": "Python 3",
   "language": "python",
   "name": "python3"
  },
  "language_info": {
   "codemirror_mode": {
    "name": "ipython",
    "version": 3
   },
   "file_extension": ".py",
   "mimetype": "text/x-python",
   "name": "python",
   "nbconvert_exporter": "python",
   "pygments_lexer": "ipython3",
   "version": "3.7.6"
  },
  "latex_envs": {
   "LaTeX_envs_menu_present": true,
   "autoclose": false,
   "autocomplete": true,
   "bibliofile": "biblio.bib",
   "cite_by": "apalike",
   "current_citInitial": 1,
   "eqLabelWithNumbers": true,
   "eqNumInitial": 1,
   "hotkeys": {
    "equation": "Ctrl-E",
    "itemize": "Ctrl-I"
   },
   "labels_anchors": false,
   "latex_user_defs": false,
   "report_style_numbering": false,
   "user_envs_cfg": false
  }
 },
 "nbformat": 4,
 "nbformat_minor": 4
}
